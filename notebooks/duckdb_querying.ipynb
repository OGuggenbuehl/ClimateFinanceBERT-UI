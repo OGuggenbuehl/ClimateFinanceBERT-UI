{
 "cells": [
  {
   "cell_type": "code",
   "execution_count": null,
   "metadata": {},
   "outputs": [],
   "source": [
    "import os\n",
    "import sys\n",
    "\n",
    "# Dynamically add the src directory to the path\n",
    "sys.path.append(os.path.abspath(\"../src\"))\n",
    "\n",
    "duckdb_path = \"../data/climfinbert_db.duckdb\""
   ]
  },
  {
   "cell_type": "code",
   "execution_count": null,
   "metadata": {},
   "outputs": [],
   "source": [
    "# get all unique values of column FlowName in duckdb\n",
    "import duckdb\n",
    "\n",
    "con = duckdb.connect(database=duckdb_path)\n",
    "cur = con.cursor()\n",
    "cur.execute(\"SELECT DISTINCT FlowName FROM my_table\")\n",
    "rows = cur.fetchall()\n",
    "con.close()\n",
    "\n",
    "# print all unique values of column FlowName\n",
    "for row in rows:\n",
    "    print(row[0])"
   ]
  },
  {
   "cell_type": "markdown",
   "metadata": {},
   "source": [
    "## Find differences in Senegal for All or None selected donors"
   ]
  },
  {
   "cell_type": "markdown",
   "metadata": {},
   "source": [
    "### All filters"
   ]
  },
  {
   "cell_type": "code",
   "execution_count": null,
   "metadata": {},
   "outputs": [],
   "source": [
    "from utils.query_duckdb import construct_query, query_duckdb\n",
    "\n",
    "query = construct_query(\n",
    "    year_type=\"single_year\",\n",
    "    selected_year=2018,\n",
    "    selected_donor_types=[\"Donor Country\", \"Multilateral Donor\"],\n",
    "    selected_categories=\"Adaptation\",\n",
    "    selected_subcategories=\"Adaptation\",\n",
    ")\n",
    "print(query)"
   ]
  },
  {
   "cell_type": "code",
   "execution_count": null,
   "metadata": {},
   "outputs": [],
   "source": [
    "from utils.data_operations import reshape_by_type\n",
    "\n",
    "df_queried = query_duckdb(duckdb_db=duckdb_path, query=query)\n",
    "df_reshaped = reshape_by_type(df_queried, selected_type=\"recipients\")"
   ]
  },
  {
   "cell_type": "code",
   "execution_count": null,
   "metadata": {},
   "outputs": [],
   "source": [
    "# subset to single country\n",
    "\n",
    "df_subset = df_reshaped[df_reshaped[\"CountryCode\"] == \"BRA\"]\n",
    "df_subset.shape"
   ]
  },
  {
   "cell_type": "markdown",
   "metadata": {},
   "source": [
    "### None filters"
   ]
  },
  {
   "cell_type": "code",
   "execution_count": null,
   "metadata": {},
   "outputs": [],
   "source": [
    "query = construct_query(\n",
    "    year_type=\"single_year\",\n",
    "    selected_year=2018,\n",
    "    # selected_donor_types=[\"Donor Country\", \"Multilateral Donor\"],\n",
    "    selected_categories=\"Adaptation\",\n",
    "    # selected_subcategories=\"Adaptation\",\n",
    ")\n",
    "print(query)"
   ]
  },
  {
   "cell_type": "code",
   "execution_count": null,
   "metadata": {},
   "outputs": [],
   "source": [
    "df_queried = query_duckdb(duckdb_db=duckdb_path, query=query)\n",
    "df_queried[df_queried[\"RecipientName\"] == \"Brazil\"].head()"
   ]
  },
  {
   "cell_type": "markdown",
   "metadata": {},
   "source": [
    "## Test modes"
   ]
  },
  {
   "cell_type": "code",
   "execution_count": null,
   "metadata": {},
   "outputs": [],
   "source": [
    "selected_categories = [\"Adaptation\", \"Mitigation\", \"Environment\"]\n",
    "query = construct_query(\n",
    "    year_type=\"single_year\",\n",
    "    selected_year=2018,\n",
    "    selected_donor_types=[\"Donor Country\"],\n",
    "    selected_categories=selected_categories,\n",
    "    # selected_subcategories=\"Adaptation\",\n",
    ")\n",
    "\n",
    "df_queried = query_duckdb(duckdb_db=duckdb_path, query=query)\n",
    "df_reshaped = reshape_by_type(df_queried, \"donors\")\n",
    "df_reshaped.head()"
   ]
  },
  {
   "cell_type": "code",
   "execution_count": null,
   "metadata": {},
   "outputs": [],
   "source": [
    "from utils.data_operations import create_mode_data\n",
    "\n",
    "create_mode_data(\n",
    "    df=df_reshaped, map_mode=\"rio_oecd\", selected_categories=selected_categories\n",
    ")"
   ]
  },
  {
   "cell_type": "code",
   "execution_count": null,
   "metadata": {},
   "outputs": [],
   "source": [
    "create_mode_data(\n",
    "    df=df_reshaped, map_mode=\"rio_climfinbert\", selected_categories=selected_categories\n",
    ")"
   ]
  },
  {
   "cell_type": "code",
   "execution_count": null,
   "metadata": {},
   "outputs": [],
   "source": [
    "create_mode_data(\n",
    "    df=df_reshaped, map_mode=\"rio_diff\", selected_categories=selected_categories\n",
    ")"
   ]
  },
  {
   "cell_type": "markdown",
   "metadata": {},
   "source": [
    "## Compare queries & map polygons"
   ]
  },
  {
   "cell_type": "code",
   "execution_count": null,
   "metadata": {},
   "outputs": [],
   "source": [
    "selected_categories = [\"Adaptation\", \"Mitigation\", \"Environment\"]\n",
    "# selected_subcategories = [\"Adaptation\", \"Mitigation\", \"Environment\"]\n",
    "query = construct_query(\n",
    "    year_type=\"single_year\",\n",
    "    selected_year=2018,\n",
    "    selected_donor_types=[\"Private Donor\"],\n",
    "    selected_categories=selected_categories,\n",
    "    selected_subcategories=\"Adaptation\",\n",
    ")\n",
    "df_queried = query_duckdb(duckdb_db=duckdb_path, query=query)\n",
    "df_reshaped = reshape_by_type(df_queried, \"recipients\")\n",
    "\n",
    "df_bra = df_reshaped[df_reshaped[\"CountryCode\"] == \"BRA\"]"
   ]
  },
  {
   "cell_type": "code",
   "execution_count": null,
   "metadata": {},
   "outputs": [],
   "source": [
    "create_mode_data(\n",
    "    df=df_bra, map_mode=\"rio_oecd\", selected_categories=selected_categories\n",
    ")"
   ]
  },
  {
   "cell_type": "code",
   "execution_count": null,
   "metadata": {},
   "outputs": [],
   "source": []
  }
 ],
 "metadata": {
  "kernelspec": {
   "display_name": ".venv",
   "language": "python",
   "name": "python3"
  },
  "language_info": {
   "codemirror_mode": {
    "name": "ipython",
    "version": 3
   },
   "file_extension": ".py",
   "mimetype": "text/x-python",
   "name": "python",
   "nbconvert_exporter": "python",
   "pygments_lexer": "ipython3",
   "version": "3.12.8"
  }
 },
 "nbformat": 4,
 "nbformat_minor": 2
}
