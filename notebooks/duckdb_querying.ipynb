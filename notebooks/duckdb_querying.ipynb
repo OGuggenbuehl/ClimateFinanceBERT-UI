{
 "cells": [
  {
   "cell_type": "code",
   "execution_count": null,
   "metadata": {},
   "outputs": [],
   "source": [
    "import os\n",
    "import sys\n",
    "\n",
    "# Dynamically add the src directory to the path\n",
    "sys.path.append(os.path.abspath(\"../src\"))"
   ]
  },
  {
   "cell_type": "markdown",
   "metadata": {},
   "source": [
    "## Find differences in Senegal for All or None selected donors"
   ]
  },
  {
   "cell_type": "markdown",
   "metadata": {},
   "source": [
    "### All filters"
   ]
  },
  {
   "cell_type": "code",
   "execution_count": null,
   "metadata": {},
   "outputs": [],
   "source": [
    "from functions.query_duckdb import construct_query, query_duckdb\n",
    "\n",
    "query = construct_query(\n",
    "    selected_years=(2020, 2021),\n",
    "    selected_donor_types=[\"Donor Country\", \"Multilateral Donor\"],\n",
    "    selected_categories=\"Adaptation\",\n",
    "    selected_subcategories=\"Adaptation\",\n",
    ")\n",
    "print(query)"
   ]
  },
  {
   "cell_type": "code",
   "execution_count": null,
   "metadata": {},
   "outputs": [],
   "source": [
    "df_queried = query_duckdb(duckdb_db=\"../data/climfinbert_db.duckdb\", query=query)\n",
    "df_queried[df_queried[\"RecipientName\"] == \"Senegal\"].head()"
   ]
  },
  {
   "cell_type": "code",
   "execution_count": null,
   "metadata": {},
   "outputs": [],
   "source": [
    "from functions.data_operations import reshape_by_type\n",
    "\n",
    "df_reshaped = reshape_by_type(df_queried, selected_type=\"recipients\")\n",
    "df_sen_all = df_reshaped[df_reshaped[\"CountryCode\"] == \"SEN\"]\n",
    "\n",
    "df_sen_all.shape\n"
   ]
  },
  {
   "cell_type": "markdown",
   "metadata": {},
   "source": [
    "### None filters"
   ]
  },
  {
   "cell_type": "code",
   "execution_count": null,
   "metadata": {},
   "outputs": [],
   "source": [
    "query = construct_query(\n",
    "    selected_years=(2020, 2021),\n",
    "    # selected_donor_types=[\"Donor Country\", \"Multilateral Donor\"],\n",
    "    selected_categories=\"Adaptation\",\n",
    "    selected_subcategories=\"Adaptation\",\n",
    ")\n",
    "print(query)\n"
   ]
  },
  {
   "cell_type": "code",
   "execution_count": null,
   "metadata": {},
   "outputs": [],
   "source": [
    "df_queried = query_duckdb(duckdb_db=\"../data/climfinbert_db.duckdb\", query=query)\n",
    "df_queried[df_queried[\"RecipientName\"] == \"Senegal\"].head()\n"
   ]
  },
  {
   "cell_type": "code",
   "execution_count": null,
   "metadata": {},
   "outputs": [],
   "source": [
    "from functions.data_operations import reshape_by_type\n",
    "\n",
    "df_reshaped = reshape_by_type(df_queried, selected_type=\"recipients\")\n",
    "df_sen_none = df_reshaped[df_reshaped[\"CountryCode\"] == \"SEN\"]\n",
    "\n",
    "df_sen_none.shape\n"
   ]
  },
  {
   "cell_type": "markdown",
   "metadata": {},
   "source": [
    "### Compare both"
   ]
  },
  {
   "cell_type": "code",
   "execution_count": null,
   "metadata": {},
   "outputs": [],
   "source": [
    "print(len(df_sen_all), len(df_sen_none))\n"
   ]
  },
  {
   "cell_type": "code",
   "execution_count": null,
   "metadata": {},
   "outputs": [],
   "source": [
    "df_diff = df_sen_all.merge(df_sen_none, how=\"outer\", indicator=True)\n",
    "print(df_diff[\"_merge\"].value_counts())  # Show distribution\n",
    "\n",
    "# Rows only in df1\n",
    "df_only_in_df1 = df_diff[df_diff[\"_merge\"] == \"left_only\"]\n",
    "\n",
    "# Rows only in df2\n",
    "df_only_in_df2 = df_diff[df_diff[\"_merge\"] == \"right_only\"]\n",
    "\n",
    "print(df_only_in_df1)\n",
    "print(df_only_in_df2)\n"
   ]
  },
  {
   "cell_type": "code",
   "execution_count": null,
   "metadata": {},
   "outputs": [],
   "source": []
  }
 ],
 "metadata": {
  "kernelspec": {
   "display_name": ".venv",
   "language": "python",
   "name": "python3"
  },
  "language_info": {
   "codemirror_mode": {
    "name": "ipython",
    "version": 3
   },
   "file_extension": ".py",
   "mimetype": "text/x-python",
   "name": "python",
   "nbconvert_exporter": "python",
   "pygments_lexer": "ipython3",
   "version": "3.12.8"
  }
 },
 "nbformat": 4,
 "nbformat_minor": 2
}
