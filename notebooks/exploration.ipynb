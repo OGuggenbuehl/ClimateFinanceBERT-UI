{
 "cells": [
  {
   "cell_type": "code",
   "execution_count": null,
   "metadata": {},
   "outputs": [],
   "source": [
    "from climatefinancebert_ui.components.utils import fetch_data"
   ]
  },
  {
   "cell_type": "code",
   "execution_count": null,
   "metadata": {},
   "outputs": [],
   "source": [
    "import polars as pl\n",
    "\n",
    "data = fetch_data(selected_type=\"donors\")\n",
    "# data.filter(pl.col(\"country_code\") == \"USA\").head()\n",
    "# Filter the dataframe\n",
    "df_filtered = data.filter(\n",
    "    (pl.col(\"country_code\") == \"USA\") & (pl.col(\"meta_category\").is_in([\"Mitigation\"])) & (pl.col(\"effective_year\").is_between(2012, 2016))\n",
    ")\n",
    "\n",
    "# # Display the head of the filtered dataframe\n",
    "df_filtered.head()"
   ]
  },
  {
   "cell_type": "code",
   "execution_count": null,
   "metadata": {},
   "outputs": [],
   "source": [
    "df_filtered.effective_funding.sum().round(2)"
   ]
  },
  {
   "cell_type": "code",
   "execution_count": null,
   "metadata": {},
   "outputs": [],
   "source": []
  }
 ],
 "metadata": {
  "kernelspec": {
   "display_name": ".venv",
   "language": "python",
   "name": "python3"
  },
  "language_info": {
   "codemirror_mode": {
    "name": "ipython",
    "version": 3
   },
   "file_extension": ".py",
   "mimetype": "text/x-python",
   "name": "python",
   "nbconvert_exporter": "python",
   "pygments_lexer": "ipython3",
   "version": "3.11.5"
  }
 },
 "nbformat": 4,
 "nbformat_minor": 2
}
