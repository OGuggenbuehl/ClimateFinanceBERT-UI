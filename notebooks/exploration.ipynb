{
 "cells": [
  {
   "cell_type": "code",
   "execution_count": null,
   "metadata": {},
   "outputs": [],
   "source": [
    "from climatefinancebert_ui.components.utils import fetch_data"
   ]
  },
  {
   "cell_type": "code",
   "execution_count": null,
   "metadata": {},
   "outputs": [],
   "source": [
    "import pandas as pd\n",
    "\n",
    "data = fetch_data(selected_type=\"donors\")\n",
    "data"
   ]
  },
  {
   "cell_type": "code",
   "execution_count": null,
   "metadata": {},
   "outputs": [],
   "source": [
    "# data.filter(pl.col(\"country_code\") == \"USA\").head()\n",
    "# Filter the dataframe\n",
    "df_filtered = data.query('country_code == \"USA\" and meta_category == \"Mitigation\" and effective_year.between(2012, 2016)')\n",
    "df_filtered.head()"
   ]
  },
  {
   "cell_type": "code",
   "execution_count": null,
   "metadata": {},
   "outputs": [],
   "source": [
    "df_filtered = data[\n",
    "    (data[\"country_code\"] == \"USA\") & \n",
    "    (data[\"meta_category\"].isin([\"Mitigation\"])) & \n",
    "    (data[\"effective_year\"].between(2012, 2016))\n",
    "]"
   ]
  },
  {
   "cell_type": "code",
   "execution_count": null,
   "metadata": {},
   "outputs": [],
   "source": [
    "df_filtered.head()"
   ]
  },
  {
   "cell_type": "code",
   "execution_count": null,
   "metadata": {},
   "outputs": [],
   "source": [
    "df_test = df_filtered[(df_filtered[\"country_code\"] == \"USA\") & df_filtered[\"effective_year\"]==2018 & df_filtered[\"meta_category\"].isin([\"Mitigation\"])]"
   ]
  },
  {
   "cell_type": "code",
   "execution_count": null,
   "metadata": {},
   "outputs": [],
   "source": [
    "df_test[\"gdp\"].iloc[0]"
   ]
  },
  {
   "cell_type": "code",
   "execution_count": null,
   "metadata": {},
   "outputs": [],
   "source": [
    "from climatefinancebert_ui.components.utils import fetch_data\n",
    "\n",
    "df_full = fetch_data(selected_type=\"donors\")\n",
    "df_filtered = df_full[\n",
    "            (df_full[\"effective_year\"].between(2011, 2014))\n",
    "        ]\n",
    "df_filtered"
   ]
  },
  {
   "cell_type": "code",
   "execution_count": null,
   "metadata": {},
   "outputs": [],
   "source": [
    "data.groupby(\"meta_category\")[\"climate_class\"].unique()"
   ]
  },
  {
   "cell_type": "code",
   "execution_count": null,
   "metadata": {},
   "outputs": [],
   "source": [
    "print(data[data[\"meta_category\"] == \"Adaptation\"].climate_class.unique())\n",
    "print(data[data[\"meta_category\"] == \"Mitigation\"].climate_class.unique())\n",
    "print(data[data[\"meta_category\"] == \"Environment\"].climate_class.unique())"
   ]
  },
  {
   "cell_type": "code",
   "execution_count": null,
   "metadata": {},
   "outputs": [],
   "source": [
    "df = pd.DataFrame(\n",
    "            {\n",
    "                \"climate_class\": [\n",
    "                    \"Adaptation\",\n",
    "                    \"Mitigation\",\n",
    "                    \"Mitigation\",\n",
    "                    \"Mitigation\",\n",
    "                    \"Mitigation\",\n",
    "                    \"Mitigation\",\n",
    "                    \"Mitigation\",\n",
    "                    \"Mitigation\",\n",
    "                    \"Mitigation\",\n",
    "                    \"Mitigation\",\n",
    "                    \"Environment\",\n",
    "                    \"Environment\",\n",
    "                    \"Environment\",\n",
    "                    \"Environment\",\n",
    "                ],\n",
    "                \"meta_category\": [\n",
    "                    \"Adaptation\",\n",
    "                    \"Solar-energy\",\n",
    "                    \"Other-mitigation-projects\",\n",
    "                    \"Renewables-multiple\",\n",
    "                    \"Hydro-energy\",\n",
    "                    \"Wind-energy\",\n",
    "                    \"Bioenergy\",\n",
    "                    \"Geothermal-energy\",\n",
    "                    \"Energy-efficiency\",\n",
    "                    \"Marine-energy\",\n",
    "                    \"Biodiversity\",\n",
    "                    \"Nature_conservation\",\n",
    "                    \"Other-environment-projects\",\n",
    "                    \"Sustainable-land-use\",\n",
    "                ],\n",
    "            }\n",
    "        )\n",
    "df"
   ]
  },
  {
   "cell_type": "code",
   "execution_count": null,
   "metadata": {},
   "outputs": [],
   "source": [
    "filtered_df = df[df[\"climate_class\"].isin([\"Adaptation\", \"Environment\"])]\n",
    "[{\"label\": i, \"value\": i} for i in filtered_df[\"meta_category\"].unique()]"
   ]
  },
  {
   "cell_type": "code",
   "execution_count": null,
   "metadata": {},
   "outputs": [],
   "source": []
  }
 ],
 "metadata": {
  "kernelspec": {
   "display_name": ".venv",
   "language": "python",
   "name": "python3"
  },
  "language_info": {
   "codemirror_mode": {
    "name": "ipython",
    "version": 3
   },
   "file_extension": ".py",
   "mimetype": "text/x-python",
   "name": "python",
   "nbconvert_exporter": "python",
   "pygments_lexer": "ipython3",
   "version": "3.11.5"
  }
 },
 "nbformat": 4,
 "nbformat_minor": 2
}
