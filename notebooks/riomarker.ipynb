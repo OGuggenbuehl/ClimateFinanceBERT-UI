{
 "cells": [
  {
   "cell_type": "code",
   "execution_count": 1,
   "metadata": {},
   "outputs": [],
   "source": [
    "import os\n",
    "import sys\n",
    "\n",
    "# Dynamically add the src directory to the path\n",
    "sys.path.append(os.path.abspath(\"../src\"))\n"
   ]
  },
  {
   "cell_type": "markdown",
   "metadata": {},
   "source": [
    "- each row is a project\n",
    "- there are no unique identifiers for projects\n",
    "- id can be dropped"
   ]
  },
  {
   "cell_type": "code",
   "execution_count": 2,
   "metadata": {},
   "outputs": [],
   "source": [
    "from components.constants import COLS\n",
    "from components.dataset import load_full_dataset\n",
    "\n",
    "df_rio = load_full_dataset(source=\"../data/sampled_df.csv\", columns=COLS)\n"
   ]
  },
  {
   "cell_type": "code",
   "execution_count": null,
   "metadata": {},
   "outputs": [],
   "source": [
    "df_rio.head()"
   ]
  },
  {
   "cell_type": "markdown",
   "metadata": {},
   "source": [
    "- ClimateMitigation\n",
    "- ClimateAdaptation\n",
    "\n",
    "- encoded: \n",
    "    - 0: not targeted\n",
    "    - 1: significant objective\n",
    "    - 2: principal objective"
   ]
  },
  {
   "cell_type": "markdown",
   "metadata": {
    "vscode": {
     "languageId": "bat"
    }
   },
   "source": [
    "- show direct flows as in https://app.electricitymaps.com/zone/FR/24h\n",
    "- 4 map modes: basic, rio markers (reported), ClimateFinanceBERT (classified), discrepancy (difference between reported and classified)\n",
    "- store data in DB and query for needed tables?"
   ]
  },
  {
   "cell_type": "code",
   "execution_count": null,
   "metadata": {},
   "outputs": [],
   "source": [
    "from functions.data_operations import get_oecd_table\n",
    "\n",
    "# Example usage\n",
    "get_oecd_table(\n",
    "    df=df_rio,\n",
    "    selected_type=\"donors\",\n",
    "    year_range=(2012, 2020),\n",
    "    selected_categories=[\"Mitigation\", \"Adaptation\"],\n",
    ")\n"
   ]
  },
  {
   "cell_type": "code",
   "execution_count": null,
   "metadata": {},
   "outputs": [],
   "source": [
    "from functions.data_operations import get_ClimFinBERT_table\n",
    "\n",
    "get_ClimFinBERT_table(\n",
    "    df=df_rio,\n",
    "    selected_type=\"donors\",\n",
    "    year_range=(2012, 2020),\n",
    "    selected_categories=[\"Mitigation\", \"Adaptation\"],\n",
    "    # selected_subcategories=[\"Renewables-multiple\"],\n",
    ")\n"
   ]
  },
  {
   "cell_type": "code",
   "execution_count": null,
   "metadata": {},
   "outputs": [],
   "source": [
    "from functions.data_operations import get_difference_table\n",
    "\n",
    "get_difference_table(\n",
    "    df=df_rio,\n",
    "    selected_type=\"donors\",\n",
    "    year_range=(2012, 2020),\n",
    "    selected_categories=[\"Mitigation\", \"Adaptation\"],\n",
    ")\n"
   ]
  }
 ],
 "metadata": {
  "kernelspec": {
   "display_name": ".venv",
   "language": "python",
   "name": "python3"
  },
  "language_info": {
   "codemirror_mode": {
    "name": "ipython",
    "version": 3
   },
   "file_extension": ".py",
   "mimetype": "text/x-python",
   "name": "python",
   "nbconvert_exporter": "python",
   "pygments_lexer": "ipython3",
   "version": "3.12.8"
  }
 },
 "nbformat": 4,
 "nbformat_minor": 2
}
