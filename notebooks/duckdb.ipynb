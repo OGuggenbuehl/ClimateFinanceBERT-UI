{
 "cells": [
  {
   "cell_type": "markdown",
   "metadata": {},
   "source": [
    "# DuckDB testing"
   ]
  },
  {
   "cell_type": "markdown",
   "metadata": {},
   "source": [
    "## query .parquet as DB"
   ]
  },
  {
   "cell_type": "code",
   "execution_count": null,
   "metadata": {},
   "outputs": [],
   "source": [
    "# test if writte .parquet is correct\n",
    "import polars as pl\n",
    "\n",
    "parquet_file = \"../data/testing_large.parquet\"\n",
    "df = pl.scan_parquet(parquet_file)\n",
    "\n",
    "row_count = df.select(pl.len()).collect().item()\n",
    "\n",
    "print(f\"Total rows in Parquet file: {row_count}\")\n"
   ]
  },
  {
   "cell_type": "code",
   "execution_count": null,
   "metadata": {},
   "outputs": [],
   "source": [
    "df_csv = pl.scan_csv(\"../data/all_crs_labelled.csv\")\n",
    "row_count_csv = df_csv.select(pl.len()).collect().item()\n",
    "\n",
    "print(f\"Total rows in CSV file: {row_count_csv}\")\n"
   ]
  },
  {
   "cell_type": "code",
   "execution_count": null,
   "metadata": {},
   "outputs": [],
   "source": [
    "import duckdb\n",
    "\n",
    "# Query a Parquet file\n",
    "con = duckdb.connect(database=\":memory:\")\n",
    "\n",
    "query = \"SELECT * FROM parquet_scan('../data/testing_large.parquet') WHERE DEDonorcode = 'GBR' AND Year >= 2018;\"\n",
    "\n",
    "# Execute the query on the Parquet file\n",
    "result_df = con.execute(query).fetchdf()\n",
    "\n",
    "result_df.head()\n"
   ]
  }
 ],
 "metadata": {
  "kernelspec": {
   "display_name": ".venv",
   "language": "python",
   "name": "python3"
  },
  "language_info": {
   "codemirror_mode": {
    "name": "ipython",
    "version": 3
   },
   "file_extension": ".py",
   "mimetype": "text/x-python",
   "name": "python",
   "nbconvert_exporter": "python",
   "pygments_lexer": "ipython3",
   "version": "3.12.8"
  }
 },
 "nbformat": 4,
 "nbformat_minor": 2
}
