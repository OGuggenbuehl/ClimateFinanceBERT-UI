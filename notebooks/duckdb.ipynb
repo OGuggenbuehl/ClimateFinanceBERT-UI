{
 "cells": [
  {
   "cell_type": "markdown",
   "metadata": {},
   "source": [
    "# DuckDB testing"
   ]
  },
  {
   "cell_type": "markdown",
   "metadata": {},
   "source": [
    "## query .parquet as DB"
   ]
  },
  {
   "cell_type": "code",
   "execution_count": null,
   "metadata": {},
   "outputs": [],
   "source": [
    "import os\n",
    "import sys\n",
    "\n",
    "import duckdb\n",
    "\n",
    "# add src to pythonpath\n",
    "sys.path.append(os.path.abspath(\"../src\"))\n",
    "from components.constants import PARQUET_SOURCE\n",
    "\n",
    "# create proper filepath\n",
    "parquet_source = os.path.abspath(\n",
    "    os.path.join(os.path.dirname(os.getcwd()), PARQUET_SOURCE)\n",
    ")\n",
    "\n",
    "con = duckdb.connect(database=\":memory:\")\n",
    "query = \"SELECT * FROM parquet_scan('../data/testing_large.parquet') WHERE DEDonorcode = 'GBR' AND Year >= 2018;\"\n",
    "\n",
    "# execute the query on the Parquet file\n",
    "result_df = con.execute(query).fetchdf()\n",
    "\n",
    "result_df.head()"
   ]
  },
  {
   "cell_type": "code",
   "execution_count": null,
   "metadata": {},
   "outputs": [],
   "source": []
  }
 ],
 "metadata": {
  "kernelspec": {
   "display_name": ".venv",
   "language": "python",
   "name": "python3"
  },
  "language_info": {
   "codemirror_mode": {
    "name": "ipython",
    "version": 3
   },
   "file_extension": ".py",
   "mimetype": "text/x-python",
   "name": "python",
   "nbconvert_exporter": "python",
   "pygments_lexer": "ipython3",
   "version": "3.12.9"
  }
 },
 "nbformat": 4,
 "nbformat_minor": 2
}
