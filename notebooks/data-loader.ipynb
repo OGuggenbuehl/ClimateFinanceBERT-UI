{
 "cells": [
  {
   "cell_type": "code",
   "execution_count": 1,
   "metadata": {},
   "outputs": [],
   "source": [
    "import os\n",
    "import sys\n",
    "\n",
    "# Dynamically add the src directory to the path\n",
    "sys.path.append(os.path.abspath(\"../src\"))"
   ]
  },
  {
   "cell_type": "code",
   "execution_count": 2,
   "metadata": {},
   "outputs": [],
   "source": [
    "import pandas as pd\n",
    "import polars as pl\n",
    "\n",
    "SOURCE = \"../data/sampled_df.csv\"\n",
    "COLS = [\n",
    "    \"Year\",\n",
    "    \"DEDonorcode\",\n",
    "    \"DonorName\",\n",
    "    \"DERecipientcode\",\n",
    "    \"RecipientName\",\n",
    "    \"FlowCode\",\n",
    "    \"FlowName\",\n",
    "    # \"Bi_Multi\",\n",
    "    # \"Category\",\n",
    "    # \"Finance_t\",\n",
    "    # \"Aid_t\",\n",
    "    \"USD_Commitment\",\n",
    "    \"USD_Disbursement\",\n",
    "    \"USD_Received\",\n",
    "    \"USD_Commitment_Defl\",\n",
    "    \"USD_Disbursement_Defl\",\n",
    "    \"USD_Received_Defl\",\n",
    "    # \"CurrencyCode\",\n",
    "    # \"Commitment_National\",\n",
    "    # \"Disbursement_National\",\n",
    "    # \"USD_GrantEquiv\",\n",
    "    # \"Geography\",\n",
    "    # \"LDCflag\",\n",
    "    # \"LDCflagName\",\n",
    "    #  'SDGfocus',\n",
    "    #  'Keywords',\n",
    "    #  'Gender',\n",
    "    #  'Environment',\n",
    "    #  'DIG',\n",
    "    #  'Trade',\n",
    "    #  'RMNCH',\n",
    "    #  'DRR',\n",
    "    #  'Nutrition',\n",
    "    #  'Disability',\n",
    "    #  'FTC',\n",
    "    #  'PBA',\n",
    "    #  'InvestmentProject',\n",
    "    #  'AssocFinance',\n",
    "    \"Biodiversity\",\n",
    "    \"ClimateMitigation\",\n",
    "    \"ClimateAdaptation\",\n",
    "    \"Desertification\",\n",
    "    \"climate_relevance\",\n",
    "    \"climate_class_number\",\n",
    "    \"climate_class\",\n",
    "    \"meta_category\",\n",
    "    \"labelled_bilateral\",\n",
    "    \"DonorType\",\n",
    "]"
   ]
  },
  {
   "cell_type": "markdown",
   "metadata": {},
   "source": [
    "### pandas"
   ]
  },
  {
   "cell_type": "code",
   "execution_count": 3,
   "metadata": {},
   "outputs": [],
   "source": [
    "df = pd.read_csv(SOURCE, usecols=COLS)"
   ]
  },
  {
   "cell_type": "markdown",
   "metadata": {},
   "source": [
    "### polars"
   ]
  },
  {
   "cell_type": "code",
   "execution_count": 4,
   "metadata": {},
   "outputs": [],
   "source": [
    "df = pl.read_csv(SOURCE, columns=COLS)"
   ]
  },
  {
   "cell_type": "code",
   "execution_count": null,
   "metadata": {},
   "outputs": [],
   "source": [
    "from typing import Literal\n",
    "\n",
    "\n",
    "def read_data(\n",
    "    selected_type: Literal[\"donors\", \"recipients\"],\n",
    "    source: str,\n",
    "    columns: list,\n",
    "    donor_type: Literal[\"bilateral\", \"multilateral\", \"all\"],\n",
    ") -> pl.DataFrame:\n",
    "    \"\"\"Read the data from the source and return the data based on the selected type and donor type.\n",
    "\n",
    "    Args:\n",
    "        selected_type (Literal[\"donors\", \"recipients\"]): Whether to return the donors or recipients\n",
    "        source (str): The path to the source file\n",
    "        columns (list): The columns to read from the source\n",
    "        donor_type (Literal[\"bilateral\", \"multilateral\", \"all\"]): The type of donor to filter the data\n",
    "\n",
    "    Returns:\n",
    "        pl.DataFrame: The data based on the selected type and donor type\n",
    "    \"\"\"\n",
    "    df = pl.read_csv(source=source, columns=columns)\n",
    "\n",
    "    data = reshape_by_type(df, selected_type)\n",
    "\n",
    "    data = filter_data_by_donor_type(data, donor_type)\n",
    "\n",
    "    return data\n",
    "\n",
    "\n",
    "def reshape_by_type(df: pl.DataFrame, selected_type: str) -> pl.DataFrame:\n",
    "    \"\"\"Reshape the table based on the selected type.\"\"\"\n",
    "    if selected_type == \"donors\":\n",
    "        return df.drop([\"DERecipientcode\", \"RecipientName\"]).rename(\n",
    "            {\"DEDonorcode\": \"DonorCode\"}\n",
    "        )\n",
    "    elif selected_type == \"recipients\":\n",
    "        return df.drop([\"DEDonorcode\", \"DonorName\"]).rename(\n",
    "            {\"DERecipientcode\": \"RecipientCode\"}\n",
    "        )\n",
    "    else:\n",
    "        raise ValueError(\n",
    "            \"Invalid selected type. Please select either 'donors' or 'recipients'.\"\n",
    "        )\n",
    "\n",
    "\n",
    "def filter_data_by_donor_type(df: pl.DataFrame, donor_type: str) -> pl.DataFrame:\n",
    "    \"\"\"Filter the data based on the donor type.\"\"\"\n",
    "    if donor_type in [\"bilateral\", \"multilateral\"]:\n",
    "        return df.filter(\n",
    "            df[\"DonorType\"]\n",
    "            == (\"Donor Country\" if donor_type == \"bilateral\" else \"Multilateral Donor\")\n",
    "        )\n",
    "    return df  # No filtering needed if donor_type is \"all\"\n",
    "\n",
    "\n",
    "read_data(\"donors\", source=SOURCE, columns=COLS, donor_type=\"all\")"
   ]
  },
  {
   "cell_type": "code",
   "execution_count": null,
   "metadata": {},
   "outputs": [],
   "source": []
  }
 ],
 "metadata": {
  "kernelspec": {
   "display_name": ".venv",
   "language": "python",
   "name": "python3"
  },
  "language_info": {
   "codemirror_mode": {
    "name": "ipython",
    "version": 3
   },
   "file_extension": ".py",
   "mimetype": "text/x-python",
   "name": "python",
   "nbconvert_exporter": "python",
   "pygments_lexer": "ipython3",
   "version": "3.12.8"
  }
 },
 "nbformat": 4,
 "nbformat_minor": 2
}
