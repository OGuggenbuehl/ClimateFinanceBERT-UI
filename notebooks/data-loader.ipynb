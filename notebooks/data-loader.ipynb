{
 "cells": [
  {
   "cell_type": "code",
   "execution_count": 6,
   "metadata": {},
   "outputs": [],
   "source": [
    "import os\n",
    "import sys\n",
    "\n",
    "# Dynamically add the src directory to the path\n",
    "sys.path.append(os.path.abspath(\"../src\"))\n"
   ]
  },
  {
   "cell_type": "code",
   "execution_count": null,
   "metadata": {},
   "outputs": [],
   "source": [
    "import pandas as pd\n",
    "import polars as pl\n",
    "\n",
    "SOURCE = \"../data/sampled_df.csv\"\n",
    "COLS = [\n",
    "    \"Year\",\n",
    "    \"DEDonorcode\",\n",
    "    \"DonorName\",\n",
    "    \"DERecipientcode\",\n",
    "    \"RecipientName\",\n",
    "    \"FlowCode\",\n",
    "    \"FlowName\",\n",
    "    \"Bi_Multi\",\n",
    "    \"Category\",\n",
    "    \"Finance_t\",\n",
    "    \"Aid_t\",\n",
    "    \"USD_Commitment\",\n",
    "    \"USD_Disbursement\",\n",
    "    \"USD_Received\",\n",
    "    \"USD_Commitment_Defl\",\n",
    "    \"USD_Disbursement_Defl\",\n",
    "    \"USD_Received_Defl\",\n",
    "    \"CurrencyCode\",\n",
    "    \"Commitment_National\",\n",
    "    \"Disbursement_National\",\n",
    "    \"USD_GrantEquiv\",\n",
    "    \"Geography\",\n",
    "    \"LDCflag\",\n",
    "    \"LDCflagName\",\n",
    "    #  'SDGfocus',\n",
    "    #  'Keywords',\n",
    "    #  'Gender',\n",
    "    #  'Environment',\n",
    "    #  'DIG',\n",
    "    #  'Trade',\n",
    "    #  'RMNCH',\n",
    "    #  'DRR',\n",
    "    #  'Nutrition',\n",
    "    #  'Disability',\n",
    "    #  'FTC',\n",
    "    #  'PBA',\n",
    "    #  'InvestmentProject',\n",
    "    #  'AssocFinance',\n",
    "    \"Biodiversity\",\n",
    "    \"ClimateMitigation\",\n",
    "    \"ClimateAdaptation\",\n",
    "    \"Desertification\",\n",
    "    \"climate_relevance\",\n",
    "    \"climate_class_number\",\n",
    "    \"climate_class\",\n",
    "    \"meta_category\",\n",
    "    \"labelled_bilateral\",\n",
    "    \"DonorType\",\n",
    "]"
   ]
  },
  {
   "cell_type": "markdown",
   "metadata": {},
   "source": [
    "### pandas"
   ]
  },
  {
   "cell_type": "code",
   "execution_count": 8,
   "metadata": {},
   "outputs": [],
   "source": [
    "df = pd.read_csv(SOURCE, usecols=COLS)"
   ]
  },
  {
   "cell_type": "markdown",
   "metadata": {},
   "source": [
    "### polars"
   ]
  },
  {
   "cell_type": "code",
   "execution_count": null,
   "metadata": {},
   "outputs": [],
   "source": [
    "df = pl.read_csv(SOURCE, columns=COLS)\n",
    "df\n"
   ]
  },
  {
   "cell_type": "code",
   "execution_count": null,
   "metadata": {},
   "outputs": [],
   "source": [
    "df.columns"
   ]
  },
  {
   "cell_type": "code",
   "execution_count": null,
   "metadata": {},
   "outputs": [],
   "source": [
    "df.to_pandas()"
   ]
  },
  {
   "cell_type": "code",
   "execution_count": null,
   "metadata": {},
   "outputs": [],
   "source": [
    "# ASK: how to distinguish between donors and recipients?\n",
    "from typing import Literal\n",
    "\n",
    "\n",
    "def read_data(\n",
    "    selected_type: Literal[\"donors\", \"recipients\"],\n",
    "    source: str,\n",
    "    columns: list,\n",
    "    donor_type: Literal[\"bilateral\", \"multilateral\", \"all\"],\n",
    ") -> pl.DataFrame:\n",
    "    \"\"\"Read the data from the source and return the data based on the selected type and donor type.\n",
    "\n",
    "    Args:\n",
    "        selected_type (Literal[\"donors\", \"recipients\"]): Whether to return the donors or recipients\n",
    "        source (str): The path to the source file\n",
    "        columns (list): The columns to read from the source\n",
    "        donor_type (Literal[\"bilateral\", \"multilateral\", \"all\"]): The type of donor to filter the data\n",
    "\n",
    "    Returns:\n",
    "        pl.DataFrame: The data based on the selected type and donor type\n",
    "    \"\"\"\n",
    "    df = pl.read_csv(source=source, columns=columns)\n",
    "\n",
    "    # Reshape the table based on the selected type\n",
    "    if selected_type == \"donors\":\n",
    "        data = df.drop([\"DERecipientcode\", \"RecipientName\"]).rename(\n",
    "            {\"DEDonorcode\": \"CountryCode\", \"DonorName\": \"CountryName\"}\n",
    "        )\n",
    "    elif selected_type == \"recipients\":\n",
    "        data = df.drop([\"DEDonorcode\", \"DonorName\"]).rename(\n",
    "            {\"DERecipientcode\": \"CountryCode\", \"RecipientName\": \"CountryName\"}\n",
    "        )\n",
    "\n",
    "    # Filter the data based on the donor type\n",
    "    if donor_type in [\"bilateral\", \"multilateral\"]:\n",
    "        data = data.filter(\n",
    "            df[\"DonorType\"]\n",
    "            == (\"Donor Country\" if donor_type == \"bilateral\" else \"Multilateral Donor\")\n",
    "        )\n",
    "\n",
    "    return data\n",
    "\n",
    "\n",
    "read_data(\"donors\", source=SOURCE, columns=COLS, donor_type=\"all\")\n"
   ]
  },
  {
   "cell_type": "code",
   "execution_count": null,
   "metadata": {},
   "outputs": [],
   "source": [
    "def from_dummies(df, separator=\"_\"):\n",
    "    col_exprs = {}\n",
    "\n",
    "    for col in df.columns:\n",
    "        name, value = col.rsplit(separator, maxsplit=1)\n",
    "        expr = pl.when(pl.col(col) == 1).then(value)\n",
    "        col_exprs.setdefault(name, []).append(expr)\n",
    "\n",
    "    return df.select(\n",
    "        pl.coalesce(exprs).alias(  # keep the first non-null expression value by row\n",
    "            name\n",
    "        )\n",
    "        for name, exprs in col_exprs.items()\n",
    "    )\n"
   ]
  },
  {
   "cell_type": "code",
   "execution_count": null,
   "metadata": {},
   "outputs": [],
   "source": [
    "from functions.data_operations import fetch_data\n",
    "\n",
    "fetch_data(\"recipients\")\n"
   ]
  },
  {
   "cell_type": "code",
   "execution_count": null,
   "metadata": {},
   "outputs": [],
   "source": [
    "from typing import List\n",
    "\n",
    "import polars as pl\n",
    "\n",
    "\n",
    "def from_dummies(\n",
    "    df: pl.DataFrame, selected_vars: List[str], separator=\"_\"\n",
    ") -> pl.DataFrame:\n",
    "    col_exprs = {}\n",
    "\n",
    "    # Loop through each column to build the expressions\n",
    "    for col in df.columns:\n",
    "        name, value = col.rsplit(separator, maxsplit=1)  # Split column name\n",
    "\n",
    "        # Process only the columns whose base name is in selected_vars\n",
    "        if name in selected_vars:\n",
    "            expr = pl.when(pl.col(col) == 1).then(\n",
    "                pl.lit(value)\n",
    "            )  # Ensure value is used as a literal\n",
    "            col_exprs.setdefault(name, []).append(expr)  # Group by base name\n",
    "\n",
    "    # Select the coalesced expressions for each selected base name\n",
    "    return df.select(\n",
    "        [\n",
    "            pl.coalesce(exprs).alias(name)  # Combine expressions into a single column\n",
    "            for name, exprs in col_exprs.items()\n",
    "        ]\n",
    "    )\n",
    "\n",
    "\n",
    "# Example usage\n",
    "data = pl.DataFrame(\n",
    "    {\n",
    "        \"climate_class_500\": [1, 0, 0],\n",
    "        \"climate_class_Adaptation\": [0, 1, 0],\n",
    "        \"climate_class_Mitigation\": [0, 0, 1],\n",
    "        \"other_class_Option1\": [1, 0, 0],\n",
    "        \"other_class_Option2\": [0, 1, 0],\n",
    "    }\n",
    ")\n",
    "\n",
    "# Specify which variables to merge\n",
    "selected_vars = [\"climate_class\", \"other_class\"]\n",
    "\n",
    "reshaped_data = from_dummies(data, selected_vars)\n",
    "print(reshaped_data)\n"
   ]
  },
  {
   "cell_type": "code",
   "execution_count": null,
   "metadata": {},
   "outputs": [],
   "source": []
  }
 ],
 "metadata": {
  "kernelspec": {
   "display_name": ".venv",
   "language": "python",
   "name": "python3"
  },
  "language_info": {
   "codemirror_mode": {
    "name": "ipython",
    "version": 3
   },
   "file_extension": ".py",
   "mimetype": "text/x-python",
   "name": "python",
   "nbconvert_exporter": "python",
   "pygments_lexer": "ipython3",
   "version": "3.12.8"
  }
 },
 "nbformat": 4,
 "nbformat_minor": 2
}
