{
 "cells": [
  {
   "cell_type": "code",
   "execution_count": 1,
   "metadata": {},
   "outputs": [],
   "source": [
    "import pandas as pd\n",
    "import polars as pl\n",
    "SOURCE = \"../data/all_crs_labelled.csv\"\n",
    "COLS = [\n",
    " 'Year',\n",
    " 'DEDonorcode',\n",
    " 'DonorName',\n",
    " 'DERecipientcode',\n",
    " 'RecipientName',\n",
    " 'FlowCode',\n",
    " 'FlowName',\n",
    " 'Bi_Multi',\n",
    " 'Category',\n",
    " 'Finance_t',\n",
    " 'Aid_t',\n",
    " 'USD_Commitment',\n",
    " 'USD_Disbursement',\n",
    " 'USD_Received',\n",
    " 'USD_Commitment_Defl',\n",
    " 'USD_Disbursement_Defl',\n",
    " 'USD_Received_Defl',\n",
    " 'CurrencyCode',\n",
    " 'Commitment_National',\n",
    " 'Disbursement_National',\n",
    " 'USD_GrantEquiv',\n",
    " 'Geography',\n",
    " 'LDCflag',\n",
    " 'LDCflagName',\n",
    "#  'SDGfocus',\n",
    "#  'Keywords',\n",
    "#  'Gender',\n",
    "#  'Environment',\n",
    "#  'DIG',\n",
    "#  'Trade',\n",
    "#  'RMNCH',\n",
    "#  'DRR',\n",
    "#  'Nutrition',\n",
    "#  'Disability',\n",
    "#  'FTC',\n",
    "#  'PBA',\n",
    "#  'InvestmentProject',\n",
    "#  'AssocFinance',\n",
    " 'Biodiversity',\n",
    " 'ClimateMitigation',\n",
    " 'ClimateAdaptation',\n",
    " 'Desertification',\n",
    " 'climate_relevance',\n",
    " 'climate_class_number',\n",
    " 'climate_class',\n",
    " 'meta_category',\n",
    " 'labelled_bilateral',\n",
    " 'DonorType']"
   ]
  },
  {
   "cell_type": "markdown",
   "metadata": {},
   "source": [
    "### pandas"
   ]
  },
  {
   "cell_type": "code",
   "execution_count": null,
   "metadata": {},
   "outputs": [],
   "source": [
    "df = pd.read_csv(SOURCE, usecols=COLS)"
   ]
  },
  {
   "cell_type": "markdown",
   "metadata": {},
   "source": [
    "### polars"
   ]
  },
  {
   "cell_type": "code",
   "execution_count": 3,
   "metadata": {},
   "outputs": [],
   "source": [
    "df = pl.read_csv(SOURCE, columns=COLS)"
   ]
  },
  {
   "cell_type": "code",
   "execution_count": null,
   "metadata": {},
   "outputs": [],
   "source": [
    "df.columns"
   ]
  },
  {
   "cell_type": "code",
   "execution_count": null,
   "metadata": {},
   "outputs": [],
   "source": [
    "df"
   ]
  },
  {
   "cell_type": "code",
   "execution_count": null,
   "metadata": {},
   "outputs": [],
   "source": [
    "df.to_pandas()"
   ]
  },
  {
   "cell_type": "code",
   "execution_count": 9,
   "metadata": {},
   "outputs": [],
   "source": [
    "# ASK: how to distinguish between donors and recipients?\n",
    "from typing import Literal\n",
    "\n",
    "def read_data(selected_type: Literal[\"donors\", \"recipients\"]):\n",
    "    df = pl.read_csv(SOURCE, columns=COLS)\n",
    "    if selected_type == \"donors\":\n",
    "        data = df.filter(pl.col(\"DonorType\") == \"Donor\")\n",
    "    elif selected_type == \"recipients\":\n",
    "        data = df.filter(pl.col(\"DonorType\") == \"Recipient\")\n",
    "\n",
    "    return data"
   ]
  },
  {
   "cell_type": "code",
   "execution_count": null,
   "metadata": {},
   "outputs": [],
   "source": []
  }
 ],
 "metadata": {
  "kernelspec": {
   "display_name": ".venv",
   "language": "python",
   "name": "python3"
  },
  "language_info": {
   "codemirror_mode": {
    "name": "ipython",
    "version": 3
   },
   "file_extension": ".py",
   "mimetype": "text/x-python",
   "name": "python",
   "nbconvert_exporter": "python",
   "pygments_lexer": "ipython3",
   "version": "3.12.5"
  }
 },
 "nbformat": 4,
 "nbformat_minor": 2
}
